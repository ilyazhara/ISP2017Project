{
 "cells": [
  {
   "cell_type": "code",
   "execution_count": 1,
   "metadata": {
    "collapsed": false
   },
   "outputs": [],
   "source": [
    "import pandas as pd\n",
    "import numpy as np\n",
    "import pylab as pl\n",
    "import matplotlib.pyplot as plt\n",
    "%matplotlib inline\n",
    "from itertools import product"
   ]
  },
  {
   "cell_type": "code",
   "execution_count": 60,
   "metadata": {
    "collapsed": true
   },
   "outputs": [],
   "source": [
    "def savearray(q, n, arr, filename):\n",
    "    f = open(filename, 'w')\n",
    "    for idx in product(range(n), repeat=q):\n",
    "            f.write(str(np.array(idx)) + ' ')\n",
    "            for elem in arr[idx]:\n",
    "                f.write(str(elem) + ' ')\n",
    "            f.write('\\n')\n",
    "    f.close() \n",
    "    \n",
    "def saveall(JP_pred, JE_pred, UP_pred, UE_pred):\n",
    "    savearray(3, 11, JP_pred, 'without_tt_jp.txt')\n",
    "    savearray(3, 11, JE_pred, 'without_tt_je.txt')\n",
    "    savearray(4, 11, UP_pred, 'without_tt_up.txt')\n",
    "    savearray(4, 11, UE_pred, 'without_tt_ue.txt')    "
   ]
  },
  {
   "cell_type": "code",
   "execution_count": 61,
   "metadata": {
    "collapsed": false
   },
   "outputs": [],
   "source": [
    "Delta_max = 1e-2 \n",
    "delta_max = 1e-2 \n",
    "gamma = 0.7\n",
    "K_max = 50\n",
    "k_max = 100\n",
    "\n",
    "from_ = 0\n",
    "to_ = 10\n",
    "n = 11"
   ]
  },
  {
   "cell_type": "code",
   "execution_count": 62,
   "metadata": {
    "collapsed": true
   },
   "outputs": [],
   "source": [
    "def get_data(from_, to_, n):\n",
    "    x_grid = np.linspace(from_, to_, n)\n",
    "    y_grid = np.linspace(from_, to_, n)\n",
    "    \n",
    "    return x_grid, y_grid"
   ]
  },
  {
   "cell_type": "code",
   "execution_count": 63,
   "metadata": {
    "collapsed": false
   },
   "outputs": [],
   "source": [
    "JP_pred = np.zeros((n, n, n, n))\n",
    "JE_pred = np.zeros((n, n, n, n))\n",
    "JP_next = np.zeros((n, n, n, n))\n",
    "JE_next = np.zeros((n, n, n, n))\n",
    "JP = np.zeros((n, n, n, n))\n",
    "JE = np.zeros((n, n, n, n))\n",
    "G = np.zeros((n, n, n, n))\n",
    "sizes = np.array([n, n, n, n]).astype(int)\n",
    "UP_pred = np.zeros((n, n, n, n, 2)).astype(int)\n",
    "UE_pred = np.zeros((n, n, n, n, 2)).astype(int)\n",
    "UP_next = np.zeros((n, n, n, n, 2)).astype(int)\n",
    "UE_next = np.zeros((n, n, n, n, 2)).astype(int)\n",
    "x_grid, y_grid = get_data(from_, to_, n)\n",
    "up_x = np.arange(-2, 3).astype(int)\n",
    "up_y = np.arange(-2, 3).astype(int)\n",
    "ue_x = np.arange(-1, 2).astype(int)\n",
    "ue_y = np.arange(-1, 2).astype(int)"
   ]
  },
  {
   "cell_type": "code",
   "execution_count": 64,
   "metadata": {
    "collapsed": true
   },
   "outputs": [],
   "source": [
    "for idx, val in zip(product(range(n), repeat=4), product(x_grid, y_grid, x_grid, y_grid)):\n",
    "    JP_pred[idx] = (val[0] - val[2]) ** 2 + (val[1] - val[3]) ** 2 \n",
    "    JE_pred[idx] = (val[0] - val[2]) ** 2 + (val[1] - val[3]) ** 2\n",
    "    G[idx] = (val[0] - val[2]) ** 2 + (val[1] - val[3]) ** 2 + 10"
   ]
  },
  {
   "cell_type": "code",
   "execution_count": 65,
   "metadata": {
    "collapsed": false
   },
   "outputs": [],
   "source": [
    "def get_neighbors(idx, sizes, up, ue, mode):\n",
    "    up = up.astype(int)\n",
    "    ue = ue.astype(int)\n",
    "    neighbors = list()\n",
    "    pos_list = list()\n",
    "    if mode == 'p':\n",
    "        z = list(idx)\n",
    "        z[2] += ue[0]\n",
    "        z[3] += ue[1]\n",
    "        for positions in product(up_x, up_y):\n",
    "            if ((idx[0] + positions[0] >= 0) and (idx[0] + positions[0] < sizes[0]) and \n",
    "                (idx[1] + positions[1] >= 0) and (idx[1] + positions[1] < sizes[1])):\n",
    "                z[0] = idx[0] + positions[0]\n",
    "                z[1] = idx[1] + positions[1]\n",
    "                neighbors.append(tuple(z))\n",
    "                pos_list.append(np.array(positions))\n",
    "    if mode == 'e':\n",
    "        z = list(idx)\n",
    "        z[0] += up[0]\n",
    "        z[1] += up[1]\n",
    "        for positions in product(ue_x, ue_y):\n",
    "            if ((idx[2] + positions[0] >= 0) and (idx[2] + positions[0] < sizes[2]) and \n",
    "                (idx[3] + positions[1] >= 0) and (idx[3] + positions[1] < sizes[3])):\n",
    "                z[2] = idx[2] + positions[0]\n",
    "                z[3] = idx[3] + positions[1]\n",
    "                neighbors.append(tuple(z))\n",
    "                pos_list.append(np.array(positions))\n",
    "                \n",
    "    return neighbors, pos_list"
   ]
  },
  {
   "cell_type": "code",
   "execution_count": 66,
   "metadata": {
    "collapsed": false
   },
   "outputs": [],
   "source": [
    "def solve(neighbors, pos_list, G, J_pred, mode, gamma=0.7):\n",
    "    function_vals = np.zeros(len(neighbors))\n",
    "    for i, neighbor in enumerate(neighbors):\n",
    "        function_vals[i] = G[neighbor] + gamma * J_pred[neighbor]\n",
    "    if mode == 'p':\n",
    "        idx = np.argmin(function_vals)\n",
    "        val = function_vals[idx]\n",
    "        pos = pos_list[idx]\n",
    "    elif mode == 'e':\n",
    "        idx = np.argmax(function_vals)\n",
    "        val = function_vals[idx]\n",
    "        pos = pos_list[idx]\n",
    "    else:\n",
    "        print 'Mode is not correct!'\n",
    "    \n",
    "    return val, pos"
   ]
  },
  {
   "cell_type": "code",
   "execution_count": 67,
   "metadata": {
    "collapsed": false,
    "scrolled": true
   },
   "outputs": [],
   "source": [
    "f_r = open('without_tt_report.txt', 'w')\n",
    "JP = JP_pred.copy()\n",
    "JE = JE_pred.copy()\n",
    "Delta_p = Delta_max + 1\n",
    "Delta_e = Delta_max + 1\n",
    "K = 0\n",
    "while ((Delta_p > Delta_max) and (Delta_e > Delta_max) and (K < K_max)):\n",
    "    delta = delta_max + 1\n",
    "    k = 0\n",
    "    while ((delta > delta_max) and (k < k_max)):\n",
    "        for idx in product(range(n), repeat=4):\n",
    "            neighbors, pos_list = get_neighbors(idx, sizes, up=np.zeros(2), ue=UE_pred[idx], mode='p')\n",
    "            JP_next[idx], UP_next[idx] = solve(neighbors, pos_list, G, JP_pred, mode='p')\n",
    "        k += 1\n",
    "        delta = np.linalg.norm(JP_next - JP_pred) ** 2\n",
    "        JP_pred = JP_next.copy()\n",
    "        UP_pred = UP_next.copy()\n",
    "        f_r.write('P ' + str(k) + ' ' + str(delta) + '\\n')\n",
    "    delta = delta_max + 1\n",
    "    k = 0\n",
    "    while ((delta > delta_max) and (k < k_max)):\n",
    "        for idx in product(range(n), repeat=4):\n",
    "            neighbors, pos_list = get_neighbors(idx, sizes, up=UP_pred[idx], ue=np.zeros(2), mode='e')\n",
    "            JE_next[idx], UE_next[idx] = solve(neighbors, pos_list, G, JE_pred, mode='e')\n",
    "        k += 1\n",
    "        delta = np.linalg.norm(JE_next - JE_pred) ** 2\n",
    "        JE_pred = JE_next.copy()\n",
    "        UE_pred = UE_next.copy()\n",
    "        f_r.write('E ' + str(k) + ' ' + str(delta) + '\\n')\n",
    "    Delta_p = np.linalg.norm(JP - JP_pred) ** 2\n",
    "    Delta_e = np.linalg.norm(JE - JE_pred) ** 2\n",
    "    JE = JE_pred.copy()\n",
    "    JP = JP_pred.copy()\n",
    "    UE = UE_pred.copy()\n",
    "    UP = UP_pred.copy()\n",
    "    K += 1\n",
    "    f_r.write('K ' + str(K) + ' ' + str(Delta_p) + ' ' + str(Delta_e) + '\\n')  \n",
    "f_r.close()"
   ]
  },
  {
   "cell_type": "code",
   "execution_count": 68,
   "metadata": {
    "collapsed": true
   },
   "outputs": [],
   "source": [
    "saveall(JP_pred, JE_pred, UP_pred, UE_pred)"
   ]
  },
  {
   "cell_type": "code",
   "execution_count": null,
   "metadata": {
    "collapsed": true
   },
   "outputs": [],
   "source": []
  },
  {
   "cell_type": "code",
   "execution_count": null,
   "metadata": {
    "collapsed": true
   },
   "outputs": [],
   "source": []
  },
  {
   "cell_type": "code",
   "execution_count": null,
   "metadata": {
    "collapsed": true
   },
   "outputs": [],
   "source": []
  },
  {
   "cell_type": "code",
   "execution_count": null,
   "metadata": {
    "collapsed": true
   },
   "outputs": [],
   "source": []
  },
  {
   "cell_type": "code",
   "execution_count": null,
   "metadata": {
    "collapsed": true
   },
   "outputs": [],
   "source": []
  },
  {
   "cell_type": "code",
   "execution_count": null,
   "metadata": {
    "collapsed": true
   },
   "outputs": [],
   "source": []
  },
  {
   "cell_type": "code",
   "execution_count": null,
   "metadata": {
    "collapsed": true
   },
   "outputs": [],
   "source": []
  },
  {
   "cell_type": "code",
   "execution_count": null,
   "metadata": {
    "collapsed": true
   },
   "outputs": [],
   "source": []
  },
  {
   "cell_type": "code",
   "execution_count": null,
   "metadata": {
    "collapsed": true
   },
   "outputs": [],
   "source": []
  },
  {
   "cell_type": "code",
   "execution_count": null,
   "metadata": {
    "collapsed": true
   },
   "outputs": [],
   "source": []
  },
  {
   "cell_type": "code",
   "execution_count": null,
   "metadata": {
    "collapsed": true
   },
   "outputs": [],
   "source": []
  },
  {
   "cell_type": "code",
   "execution_count": 327,
   "metadata": {
    "collapsed": false
   },
   "outputs": [
    {
     "data": {
      "image/png": "[encoded data removed]",
      "text/plain": [
       "<matplotlib.figure.Figure at 0x108b63c8>"
      ]
     },
     "metadata": {},
     "output_type": "display_data"
    }
   ],
   "source": [
    "z_init = (5, 1, 5, 5)\n",
    "p_pos_array = []\n",
    "e_pos_array = []\n",
    "p_pos = np.array(z_init[:2])\n",
    "e_pos = np.array(z_init[2:])\n",
    "for i in range(10):\n",
    "    p_pos_array.append(p_pos)\n",
    "    e_pos_array.append(e_pos)\n",
    "    p_pos = np.array(p_pos) + UP[p_pos[0], p_pos[1], e_pos[0], e_pos[1]]\n",
    "    e_pos = np.array(e_pos) + UE[p_pos[0], p_pos[1], e_pos[0], e_pos[1]]\n",
    "    \n",
    "plt.figure(figsize=(8, 6))\n",
    "#for i in range(10):\n",
    "#    plt.plot(p_pos_array[i][0], p_pos_array[i][1], 'ro', markersize=10)\n",
    "    \n",
    "for i in range(9):\n",
    "    x_start = p_pos_array[i][0]\n",
    "    y_start = p_pos_array[i][1]\n",
    "    dx = p_pos_array[i + 1][0] - p_pos_array[i][0]\n",
    "    dy = p_pos_array[i + 1][1] - p_pos_array[i][1]\n",
    "    plt.arrow(x_start, y_start, dx, dy, head_width=0.1, head_length=0.2, fc='k', ec='k')\n",
    "    \n",
    "#for i in range(10):\n",
    "#    plt.plot(e_pos_array[i][0], e_pos_array[i][1], 'bo')\n",
    "\n",
    "for i in range(9):\n",
    "    x_start = e_pos_array[i][0]\n",
    "    y_start = e_pos_array[i][1]\n",
    "    dx = e_pos_array[i + 1][0] - e_pos_array[i][0]\n",
    "    dy = e_pos_array[i + 1][1] - e_pos_array[i][1]\n",
    "    plt.arrow(x_start, y_start, dx, dy, head_width=0.1, head_length=0.2, fc='r', ec='r')\n",
    "    \n",
    "plt.xlim((-1, 10))\n",
    "plt.ylim((-1, 10))\n",
    "plt.show()"
   ]
  },
  {
   "cell_type": "code",
   "execution_count": 328,
   "metadata": {
    "collapsed": false
   },
   "outputs": [
    {
     "data": {
      "text/plain": [
       "[array([5, 1]),\n",
       " array([4, 3]),\n",
       " array([5, 5]),\n",
       " array([6, 6]),\n",
       " array([7, 7]),\n",
       " array([8, 8]),\n",
       " array([9, 9]),\n",
       " array([10, 10]),\n",
       " array([11, 11]),\n",
       " array([12, 12])]"
      ]
     },
     "execution_count": 328,
     "metadata": {},
     "output_type": "execute_result"
    }
   ],
   "source": [
    "p_pos_array"
   ]
  },
  {
   "cell_type": "code",
   "execution_count": 329,
   "metadata": {
    "collapsed": false
   },
   "outputs": [
    {
     "data": {
      "text/plain": [
       "[array([5, 5]),\n",
       " array([6, 6]),\n",
       " array([7, 7]),\n",
       " array([8, 8]),\n",
       " array([9, 9]),\n",
       " array([10, 10]),\n",
       " array([11, 11]),\n",
       " array([12, 12]),\n",
       " array([13, 13]),\n",
       " array([14, 14])]"
      ]
     },
     "execution_count": 329,
     "metadata": {},
     "output_type": "execute_result"
    }
   ],
   "source": [
    "e_pos_array"
   ]
  },
  {
   "cell_type": "code",
   "execution_count": 35,
   "metadata": {
    "collapsed": false
   },
   "outputs": [
    {
     "data": {
      "image/png": "[encoded data removed]",
      "text/plain": [
       "<matplotlib.figure.Figure at 0xac0b856c>"
      ]
     },
     "metadata": {},
     "output_type": "display_data"
    }
   ],
   "source": [
    "plt.imshow(JE[0, 0, :, :])\n",
    "plt.colorbar()\n",
    "plt.show()"
   ]
  },
  {
   "cell_type": "code",
   "execution_count": null,
   "metadata": {
    "collapsed": true
   },
   "outputs": [],
   "source": []
  }
 ],
 "metadata": {
  "anaconda-cloud": {},
  "kernelspec": {
   "display_name": "Python [default]",
   "language": "python",
   "name": "python2"
  },
  "language_info": {
   "codemirror_mode": {
    "name": "ipython",
    "version": 2
   },
   "file_extension": ".py",
   "mimetype": "text/x-python",
   "name": "python",
   "nbconvert_exporter": "python",
   "pygments_lexer": "ipython2",
   "version": "2.7.12"
  }
 },
 "nbformat": 4,
 "nbformat_minor": 1
}
