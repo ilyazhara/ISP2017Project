{
 "cells": [
  {
   "cell_type": "code",
   "execution_count": 89,
   "metadata": {
    "collapsed": false
   },
   "outputs": [],
   "source": [
    "import pandas as pd\n",
    "import tt\n",
    "import numpy as np\n",
    "import matplotlib.pyplot as plt\n",
    "%matplotlib inline\n",
    "from itertools import product"
   ]
  },
  {
   "cell_type": "code",
   "execution_count": 114,
   "metadata": {
    "collapsed": true
   },
   "outputs": [],
   "source": [
    "def savearray(q, n, arr, filename):\n",
    "    f2 = open(filename, 'w')\n",
    "    for idx in product(range(n), repeat=q):\n",
    "            f2.write(str(np.array(idx)) + ' ')\n",
    "            for elem in arr[idx]:\n",
    "                f2.write(str(elem) + ' ')\n",
    "            f2.write('\\n')\n",
    "    f2.close() \n",
    "    \n",
    "def saveall(JP_pred, JE_pred, UP_pred, UE_pred):\n",
    "    JP_pred = JP_pred.full()\n",
    "    JE_pred = JE_pred.full()\n",
    "    UP_pred = UP_pred.full().astype(int)\n",
    "    UE_pred = UE_pred.full().astype(int)\n",
    "    savearray(3, 11, JP_pred, 'with_tt_jp.txt')\n",
    "    savearray(3, 11, JE_pred, 'with_tt_je.txt')\n",
    "    savearray(4, 11, UP_pred, 'with_tt_up.txt')\n",
    "    savearray(4, 11, UE_pred, 'with_tt_ue.txt')    "
   ]
  },
  {
   "cell_type": "code",
   "execution_count": 115,
   "metadata": {
    "collapsed": false
   },
   "outputs": [],
   "source": [
    "Delta_max = 1e-2 \n",
    "delta_max = 1e-2 \n",
    "gamma = 0.7\n",
    "K_max = 50\n",
    "k_max = 100\n",
    "\n",
    "from_ = 0\n",
    "to_ = 10\n",
    "n = 11"
   ]
  },
  {
   "cell_type": "code",
   "execution_count": 116,
   "metadata": {
    "collapsed": true
   },
   "outputs": [],
   "source": [
    "def get_data(from_, to_, n):\n",
    "    x_grid = np.linspace(from_, to_, n)\n",
    "    y_grid = np.linspace(from_, to_, n)\n",
    "    \n",
    "    return x_grid, y_grid"
   ]
  },
  {
   "cell_type": "code",
   "execution_count": 117,
   "metadata": {
    "collapsed": false
   },
   "outputs": [],
   "source": [
    "JP_pred = np.zeros((n, n, n, n))\n",
    "JE_pred = np.zeros((n, n, n, n))\n",
    "JP_next = np.zeros((n, n, n, n))\n",
    "JE_next = np.zeros((n, n, n, n))\n",
    "JP = np.zeros((n, n, n, n))\n",
    "JE = np.zeros((n, n, n, n))\n",
    "G = np.zeros((n, n, n, n))\n",
    "sizes = np.array([n, n, n, n]).astype(int)\n",
    "UP_pred = np.ones((n, n, n, n, 2))*1e-10\n",
    "UE_pred = np.ones((n, n, n, n, 2))*1e-10\n",
    "UP_next = np.ones((n, n, n, n, 2))*1e-10\n",
    "UE_next = np.ones((n, n, n, n, 2))*1e-10\n",
    "x_grid, y_grid = get_data(from_, to_, n)\n",
    "up_x = np.arange(-2, 3).astype(int)\n",
    "up_y = np.arange(-2, 3).astype(int)\n",
    "ue_x = np.arange(-1, 2).astype(int)\n",
    "ue_y = np.arange(-1, 2).astype(int)"
   ]
  },
  {
   "cell_type": "code",
   "execution_count": 118,
   "metadata": {
    "collapsed": true
   },
   "outputs": [],
   "source": [
    "arr1 = np.arange(n)\n",
    "arr2 = np.arange(n)\n",
    "arr3 = np.arange(n)\n",
    "arr4 = np.arange(n)\n",
    "arr1_tt = tt.tensor(arr1)\n",
    "arr2_tt = tt.tensor(arr2)\n",
    "arr3_tt = tt.tensor(arr3)\n",
    "arr4_tt = tt.tensor(arr4)\n",
    "e1 = tt.tensor(np.ones(n))\n",
    "e2 = tt.tensor(np.ones(n))\n",
    "e3 = tt.tensor(np.ones(n))\n",
    "e4 = tt.tensor(np.ones(n))\n",
    "I1 = tt.kron(tt.kron(tt.kron(arr1_tt, e2), e3), e4)\n",
    "I2 = tt.kron(tt.kron(tt.kron(e1, arr2_tt), e3), e4)\n",
    "I3 = tt.kron(tt.kron(tt.kron(e1, e2), arr3_tt), e4)\n",
    "I4 = tt.kron(tt.kron(tt.kron(e1, e2), e3), arr4_tt)"
   ]
  },
  {
   "cell_type": "code",
   "execution_count": 119,
   "metadata": {
    "collapsed": false
   },
   "outputs": [],
   "source": [
    "for idx, val in zip(product(range(n), repeat=4), product(x_grid, y_grid, x_grid, y_grid)):\n",
    "    JP_pred[idx] = (val[0] - val[2]) ** 2 + (val[1] - val[3]) ** 2 \n",
    "    JE_pred[idx] = (val[0] - val[2]) ** 2 + (val[1] - val[3]) ** 2\n",
    "    G[idx] = (val[0] - val[2]) ** 2 + (val[1] - val[3]) ** 2 + 10"
   ]
  },
  {
   "cell_type": "code",
   "execution_count": 120,
   "metadata": {
    "collapsed": false
   },
   "outputs": [],
   "source": [
    "def get_neighbors(idx, sizes, up, ue, mode):\n",
    "    up = up.astype(int)\n",
    "    ue = ue.astype(int)\n",
    "    neighbors = list()\n",
    "    pos_list = list()\n",
    "    if mode == 'p':\n",
    "        z = list(idx)\n",
    "        z[2] += ue[0]\n",
    "        z[3] += ue[1]\n",
    "        for positions in product(up_x, up_y):\n",
    "            if ((idx[0] + positions[0] >= 0) and (idx[0] + positions[0] < sizes[0]) and \n",
    "                (idx[1] + positions[1] >= 0) and (idx[1] + positions[1] < sizes[1])):\n",
    "                z[0] = idx[0] + positions[0]\n",
    "                z[1] = idx[1] + positions[1]\n",
    "                neighbors.append(tuple(z))\n",
    "                pos_list.append(np.array(positions))\n",
    "    if mode == 'e':\n",
    "        z = list(idx)\n",
    "        z[0] += up[0]\n",
    "        z[1] += up[1]\n",
    "        for positions in product(ue_x, ue_y):\n",
    "            if ((idx[2] + positions[0] >= 0) and (idx[2] + positions[0] < sizes[2]) and \n",
    "                (idx[3] + positions[1] >= 0) and (idx[3] + positions[1] < sizes[3])):\n",
    "                z[2] = idx[2] + positions[0]\n",
    "                z[3] = idx[3] + positions[1]\n",
    "                neighbors.append(tuple(z))\n",
    "                pos_list.append(np.array(positions))\n",
    "                \n",
    "    return neighbors, pos_list"
   ]
  },
  {
   "cell_type": "code",
   "execution_count": 121,
   "metadata": {
    "collapsed": false
   },
   "outputs": [],
   "source": [
    "def solve(neighbors, pos_list, G, J_pred, mode, gamma=0.7):\n",
    "    function_vals = np.zeros(len(neighbors))\n",
    "    for i, neighbor in enumerate(neighbors):\n",
    "        function_vals[i] = G[neighbor] + gamma * J_pred[neighbor]\n",
    "    if mode == 'p':\n",
    "        idx = np.argmin(function_vals)\n",
    "        val = function_vals[idx]\n",
    "        pos = pos_list[idx]\n",
    "    elif mode == 'e':\n",
    "        idx = np.argmax(function_vals)\n",
    "        val = function_vals[idx]\n",
    "        pos = pos_list[idx]\n",
    "    else:\n",
    "        print 'Mode is not correct!'\n",
    "    \n",
    "    return val, pos"
   ]
  },
  {
   "cell_type": "code",
   "execution_count": 122,
   "metadata": {
    "collapsed": true
   },
   "outputs": [],
   "source": [
    "def tt_cross_P(V):\n",
    "    result = np.zeros((V.shape[0], 3))\n",
    "    for i in xrange(V.shape[0]):\n",
    "        idx = (int(V[i, 0]), int(V[i, 1]), int(V[i, 2]), int(V[i, 3]))\n",
    "        idx1 = (int(V[i, 0]), int(V[i, 1]), int(V[i, 2]), int(V[i, 3]), 0)\n",
    "        idx2 = (int(V[i, 0]), int(V[i, 1]), int(V[i, 2]), int(V[i, 3]), 1)\n",
    "        neighbors, pos_list = get_neighbors(idx, sizes, up=np.zeros(2), \n",
    "                                            ue=np.array([UE_pred[idx1], UE_pred[idx2]]), mode='p')\n",
    "        value, positions = solve(neighbors, pos_list, G, JP_pred, mode='p')\n",
    "        result[i, 0] = value\n",
    "        result[i, 1] = positions[0]\n",
    "        result[i, 2] = positions[1]\n",
    "        \n",
    "    return result\n",
    "\n",
    "def tt_cross_E(V):\n",
    "    result = np.zeros((V.shape[0], 3))\n",
    "    for i in xrange(V.shape[0]):\n",
    "        idx = (int(V[i, 0]), int(V[i, 1]), int(V[i, 2]), int(V[i, 3]))\n",
    "        idx1 = (int(V[i, 0]), int(V[i, 1]), int(V[i, 2]), int(V[i, 3]), 0)\n",
    "        idx2 = (int(V[i, 0]), int(V[i, 1]), int(V[i, 2]), int(V[i, 3]), 1)\n",
    "        neighbors, pos_list = get_neighbors(idx, sizes, \n",
    "                                            up=np.array([UP_pred[idx1], UP_pred[idx2]]), ue=np.zeros(2), mode='e')\n",
    "        value, positions = solve(neighbors, pos_list, G, JE_pred, mode='e')\n",
    "        result[i, 0] = value\n",
    "        result[i, 1] = positions[0]\n",
    "        result[i, 2] = positions[1]\n",
    "        \n",
    "    return result"
   ]
  },
  {
   "cell_type": "code",
   "execution_count": 123,
   "metadata": {
    "collapsed": false,
    "scrolled": false
   },
   "outputs": [
    {
     "ename": "KeyboardInterrupt",
     "evalue": "",
     "output_type": "error",
     "traceback": [
      "\u001b[0;31m---------------------------------------------------------------------------\u001b[0m",
      "\u001b[0;31mKeyboardInterrupt\u001b[0m                         Traceback (most recent call last)",
      "\u001b[0;32m<ipython-input-123-290d44028d58>\u001b[0m in \u001b[0;36m<module>\u001b[0;34m()\u001b[0m\n\u001b[1;32m     28\u001b[0m     \u001b[0mk\u001b[0m \u001b[0;34m=\u001b[0m \u001b[0;36m0\u001b[0m\u001b[0;34m\u001b[0m\u001b[0m\n\u001b[1;32m     29\u001b[0m     \u001b[0;32mwhile\u001b[0m \u001b[0;34m(\u001b[0m\u001b[0;34m(\u001b[0m\u001b[0mdelta\u001b[0m \u001b[0;34m>\u001b[0m \u001b[0mdelta_max\u001b[0m\u001b[0;34m)\u001b[0m \u001b[0;32mand\u001b[0m \u001b[0;34m(\u001b[0m\u001b[0mk\u001b[0m \u001b[0;34m<\u001b[0m \u001b[0mk_max\u001b[0m\u001b[0;34m)\u001b[0m\u001b[0;34m)\u001b[0m\u001b[0;34m:\u001b[0m\u001b[0;34m\u001b[0m\u001b[0m\n\u001b[0;32m---> 30\u001b[0;31m         \u001b[0mnew_tensor2\u001b[0m \u001b[0;34m=\u001b[0m \u001b[0mtt\u001b[0m\u001b[0;34m.\u001b[0m\u001b[0mmultifuncrs2\u001b[0m\u001b[0;34m(\u001b[0m\u001b[0;34m[\u001b[0m\u001b[0mI1\u001b[0m\u001b[0;34m,\u001b[0m \u001b[0mI2\u001b[0m\u001b[0;34m,\u001b[0m \u001b[0mI3\u001b[0m\u001b[0;34m,\u001b[0m \u001b[0mI4\u001b[0m\u001b[0;34m]\u001b[0m\u001b[0;34m,\u001b[0m \u001b[0mtt_cross_E\u001b[0m\u001b[0;34m,\u001b[0m \u001b[0meps\u001b[0m\u001b[0;34m=\u001b[0m\u001b[0;36m1e-3\u001b[0m\u001b[0;34m,\u001b[0m \u001b[0md2\u001b[0m\u001b[0;34m=\u001b[0m\u001b[0;36m3\u001b[0m\u001b[0;34m,\u001b[0m \u001b[0mverb\u001b[0m\u001b[0;34m=\u001b[0m\u001b[0;36m0\u001b[0m\u001b[0;34m)\u001b[0m\u001b[0;34m\u001b[0m\u001b[0m\n\u001b[0m\u001b[1;32m     31\u001b[0m         new_array2 = new_tensor2.full().reshape((-1), order='f').reshape((\n\u001b[1;32m     32\u001b[0m                 n, n, n, n, 3), order='f').reshape((n, n, n, n, 3), order='c')\n",
      "\u001b[0;32m/home/ilya/anaconda2/lib/python2.7/site-packages/tt/multifuncrs2.pyc\u001b[0m in \u001b[0;36mmultifuncrs2\u001b[0;34m(X, funs, eps, nswp, rmax, verb, kickrank, kickrank2, d2, eps_exit, y0, do_qr, restart_it)\u001b[0m\n\u001b[1;32m    165\u001b[0m             \u001b[0mcr\u001b[0m \u001b[0;34m=\u001b[0m \u001b[0mnp\u001b[0m\u001b[0;34m.\u001b[0m\u001b[0mdot\u001b[0m\u001b[0;34m(\u001b[0m\u001b[0mcr\u001b[0m\u001b[0;34m,\u001b[0m \u001b[0mRx\u001b[0m\u001b[0;34m[\u001b[0m\u001b[0mi\u001b[0m \u001b[0;34m+\u001b[0m \u001b[0;36m1\u001b[0m\u001b[0;34m,\u001b[0m \u001b[0mj\u001b[0m\u001b[0;34m]\u001b[0m\u001b[0;34m)\u001b[0m\u001b[0;34m\u001b[0m\u001b[0m\n\u001b[1;32m    166\u001b[0m             \u001b[0mcurbl\u001b[0m\u001b[0;34m[\u001b[0m\u001b[0;34m:\u001b[0m\u001b[0;34m,\u001b[0m \u001b[0mj\u001b[0m\u001b[0;34m]\u001b[0m \u001b[0;34m=\u001b[0m \u001b[0mcr\u001b[0m\u001b[0;34m.\u001b[0m\u001b[0mflatten\u001b[0m\u001b[0;34m(\u001b[0m\u001b[0;34m'F'\u001b[0m\u001b[0;34m)\u001b[0m\u001b[0;34m\u001b[0m\u001b[0m\n\u001b[0;32m--> 167\u001b[0;31m         \u001b[0mnewy\u001b[0m \u001b[0;34m=\u001b[0m \u001b[0mfuns\u001b[0m\u001b[0;34m(\u001b[0m\u001b[0mcurbl\u001b[0m\u001b[0;34m)\u001b[0m\u001b[0;34m\u001b[0m\u001b[0m\n\u001b[0m\u001b[1;32m    168\u001b[0m         \u001b[0;31m# multiply with inverted Ry\u001b[0m\u001b[0;34m\u001b[0m\u001b[0;34m\u001b[0m\u001b[0m\n\u001b[1;32m    169\u001b[0m         \u001b[0mnewy\u001b[0m \u001b[0;34m=\u001b[0m \u001b[0mreshape\u001b[0m\u001b[0;34m(\u001b[0m\u001b[0mnewy\u001b[0m\u001b[0;34m,\u001b[0m \u001b[0;34m(\u001b[0m\u001b[0mry\u001b[0m\u001b[0;34m[\u001b[0m\u001b[0mi\u001b[0m\u001b[0;34m]\u001b[0m\u001b[0;34m,\u001b[0m \u001b[0mn\u001b[0m\u001b[0;34m[\u001b[0m\u001b[0mi\u001b[0m\u001b[0;34m]\u001b[0m \u001b[0;34m*\u001b[0m \u001b[0mry\u001b[0m\u001b[0;34m[\u001b[0m\u001b[0mi\u001b[0m \u001b[0;34m+\u001b[0m \u001b[0;36m1\u001b[0m\u001b[0;34m]\u001b[0m \u001b[0;34m*\u001b[0m \u001b[0md2\u001b[0m\u001b[0;34m)\u001b[0m\u001b[0;34m)\u001b[0m\u001b[0;34m\u001b[0m\u001b[0m\n",
      "\u001b[0;32m<ipython-input-122-78e42d863c86>\u001b[0m in \u001b[0;36mtt_cross_E\u001b[0;34m(V)\u001b[0m\n\u001b[1;32m     21\u001b[0m         \u001b[0midx2\u001b[0m \u001b[0;34m=\u001b[0m \u001b[0;34m(\u001b[0m\u001b[0mint\u001b[0m\u001b[0;34m(\u001b[0m\u001b[0mV\u001b[0m\u001b[0;34m[\u001b[0m\u001b[0mi\u001b[0m\u001b[0;34m,\u001b[0m \u001b[0;36m0\u001b[0m\u001b[0;34m]\u001b[0m\u001b[0;34m)\u001b[0m\u001b[0;34m,\u001b[0m \u001b[0mint\u001b[0m\u001b[0;34m(\u001b[0m\u001b[0mV\u001b[0m\u001b[0;34m[\u001b[0m\u001b[0mi\u001b[0m\u001b[0;34m,\u001b[0m \u001b[0;36m1\u001b[0m\u001b[0;34m]\u001b[0m\u001b[0;34m)\u001b[0m\u001b[0;34m,\u001b[0m \u001b[0mint\u001b[0m\u001b[0;34m(\u001b[0m\u001b[0mV\u001b[0m\u001b[0;34m[\u001b[0m\u001b[0mi\u001b[0m\u001b[0;34m,\u001b[0m \u001b[0;36m2\u001b[0m\u001b[0;34m]\u001b[0m\u001b[0;34m)\u001b[0m\u001b[0;34m,\u001b[0m \u001b[0mint\u001b[0m\u001b[0;34m(\u001b[0m\u001b[0mV\u001b[0m\u001b[0;34m[\u001b[0m\u001b[0mi\u001b[0m\u001b[0;34m,\u001b[0m \u001b[0;36m3\u001b[0m\u001b[0;34m]\u001b[0m\u001b[0;34m)\u001b[0m\u001b[0;34m,\u001b[0m \u001b[0;36m1\u001b[0m\u001b[0;34m)\u001b[0m\u001b[0;34m\u001b[0m\u001b[0m\n\u001b[1;32m     22\u001b[0m         neighbors, pos_list = get_neighbors(idx, sizes, \n\u001b[0;32m---> 23\u001b[0;31m                                             up=np.array([UP_pred[idx1], UP_pred[idx2]]), ue=np.zeros(2), mode='e')\n\u001b[0m\u001b[1;32m     24\u001b[0m         \u001b[0mvalue\u001b[0m\u001b[0;34m,\u001b[0m \u001b[0mpositions\u001b[0m \u001b[0;34m=\u001b[0m \u001b[0msolve\u001b[0m\u001b[0;34m(\u001b[0m\u001b[0mneighbors\u001b[0m\u001b[0;34m,\u001b[0m \u001b[0mpos_list\u001b[0m\u001b[0;34m,\u001b[0m \u001b[0mG\u001b[0m\u001b[0;34m,\u001b[0m \u001b[0mJE_pred\u001b[0m\u001b[0;34m,\u001b[0m \u001b[0mmode\u001b[0m\u001b[0;34m=\u001b[0m\u001b[0;34m'e'\u001b[0m\u001b[0;34m)\u001b[0m\u001b[0;34m\u001b[0m\u001b[0m\n\u001b[1;32m     25\u001b[0m         \u001b[0mresult\u001b[0m\u001b[0;34m[\u001b[0m\u001b[0mi\u001b[0m\u001b[0;34m,\u001b[0m \u001b[0;36m0\u001b[0m\u001b[0;34m]\u001b[0m \u001b[0;34m=\u001b[0m \u001b[0mvalue\u001b[0m\u001b[0;34m\u001b[0m\u001b[0m\n",
      "\u001b[0;32m<ipython-input-120-3c85e543358b>\u001b[0m in \u001b[0;36mget_neighbors\u001b[0;34m(idx, sizes, up, ue, mode)\u001b[0m\n\u001b[1;32m     25\u001b[0m                 \u001b[0mz\u001b[0m\u001b[0;34m[\u001b[0m\u001b[0;36m3\u001b[0m\u001b[0;34m]\u001b[0m \u001b[0;34m=\u001b[0m \u001b[0midx\u001b[0m\u001b[0;34m[\u001b[0m\u001b[0;36m3\u001b[0m\u001b[0;34m]\u001b[0m \u001b[0;34m+\u001b[0m \u001b[0mpositions\u001b[0m\u001b[0;34m[\u001b[0m\u001b[0;36m1\u001b[0m\u001b[0;34m]\u001b[0m\u001b[0;34m\u001b[0m\u001b[0m\n\u001b[1;32m     26\u001b[0m                 \u001b[0mneighbors\u001b[0m\u001b[0;34m.\u001b[0m\u001b[0mappend\u001b[0m\u001b[0;34m(\u001b[0m\u001b[0mtuple\u001b[0m\u001b[0;34m(\u001b[0m\u001b[0mz\u001b[0m\u001b[0;34m)\u001b[0m\u001b[0;34m)\u001b[0m\u001b[0;34m\u001b[0m\u001b[0m\n\u001b[0;32m---> 27\u001b[0;31m                 \u001b[0mpos_list\u001b[0m\u001b[0;34m.\u001b[0m\u001b[0mappend\u001b[0m\u001b[0;34m(\u001b[0m\u001b[0mnp\u001b[0m\u001b[0;34m.\u001b[0m\u001b[0marray\u001b[0m\u001b[0;34m(\u001b[0m\u001b[0mpositions\u001b[0m\u001b[0;34m)\u001b[0m\u001b[0;34m)\u001b[0m\u001b[0;34m\u001b[0m\u001b[0m\n\u001b[0m\u001b[1;32m     28\u001b[0m \u001b[0;34m\u001b[0m\u001b[0m\n\u001b[1;32m     29\u001b[0m     \u001b[0;32mreturn\u001b[0m \u001b[0mneighbors\u001b[0m\u001b[0;34m,\u001b[0m \u001b[0mpos_list\u001b[0m\u001b[0;34m\u001b[0m\u001b[0m\n",
      "\u001b[0;31mKeyboardInterrupt\u001b[0m: "
     ]
    }
   ],
   "source": [
    "f2_r = open('with_tt_report.txt', 'w')\n",
    "JP = JP_pred.copy()\n",
    "JE = JE_pred.copy()\n",
    "JP = tt.tensor(JP)\n",
    "JE = tt.tensor(JE)\n",
    "JP_pred = tt.tensor(JP_pred)\n",
    "UP_pred = tt.tensor(UP_pred)\n",
    "JE_pred = tt.tensor(JE_pred)\n",
    "UE_pred = tt.tensor(UE_pred)\n",
    "Delta_p = Delta_max + 1\n",
    "Delta_e = Delta_max + 1\n",
    "K = 0\n",
    "while ((Delta_p > Delta_max) and (Delta_e > Delta_max) and (K < K_max)):\n",
    "    delta = delta_max + 1\n",
    "    k = 0\n",
    "    while ((delta > delta_max) and (k < k_max)):\n",
    "        new_tensor1 = tt.multifuncrs2([I1, I2, I3, I4], tt_cross_P, eps=1e-3, d2=3, verb=0)\n",
    "        new_array1 = new_tensor1.full().reshape((-1), order='f').reshape((\n",
    "                n, n, n, n, 3), order='f').reshape((n, n, n, n, 3), order='c')\n",
    "        JP_next = tt.tensor(new_array1[:, :, :, :, 0])\n",
    "        UP_next = tt.tensor(new_array1[:, :, :, :, 1:])\n",
    "        k += 1\n",
    "        delta = (JP_next - JP_pred).norm() ** 2\n",
    "        JP_pred = JP_next.copy()\n",
    "        UP_pred = UP_next.copy()\n",
    "        f2_r.write('P ' + str(k) + ' ' + str(delta) + '\\n')\n",
    "    delta = delta_max + 1\n",
    "    k = 0\n",
    "    while ((delta > delta_max) and (k < k_max)):\n",
    "        new_tensor2 = tt.multifuncrs2([I1, I2, I3, I4], tt_cross_E, eps=1e-3, d2=3, verb=0)\n",
    "        new_array2 = new_tensor2.full().reshape((-1), order='f').reshape((\n",
    "                n, n, n, n, 3), order='f').reshape((n, n, n, n, 3), order='c')\n",
    "        JE_next = tt.tensor(new_array2[:, :, :, :, 0])\n",
    "        UE_next = tt.tensor(new_array2[:, :, :, :, 1:])\n",
    "        k += 1\n",
    "        delta = (JE_next - JE_pred).norm() ** 2\n",
    "        JE_pred = JE_next.copy()\n",
    "        UE_pred = UE_next.copy()\n",
    "        f2_r.write('E ' + str(k) + ' ' + str(delta) + '\\n')\n",
    "    Delta_p = (JP - JP_pred).norm() ** 2\n",
    "    Delta_e = (JE - JE_pred).norm() ** 2\n",
    "    JE = JE_pred.copy()\n",
    "    JP = JP_pred.copy()\n",
    "    UE = UE_pred.copy()\n",
    "    UP = UP_pred.copy()\n",
    "    K += 1\n",
    "    f2_r.write('K ' + str(K) + ' ' + str(Delta_p) + ' ' + str(Delta_e) + '\\n')  \n",
    "f2_r.close()"
   ]
  },
  {
   "cell_type": "code",
   "execution_count": 125,
   "metadata": {
    "collapsed": true
   },
   "outputs": [],
   "source": [
    "saveall(JP_pred, JE_pred, UP_pred, UE_pred)"
   ]
  },
  {
   "cell_type": "code",
   "execution_count": null,
   "metadata": {
    "collapsed": true
   },
   "outputs": [],
   "source": []
  },
  {
   "cell_type": "code",
   "execution_count": null,
   "metadata": {
    "collapsed": true
   },
   "outputs": [],
   "source": []
  },
  {
   "cell_type": "code",
   "execution_count": null,
   "metadata": {
    "collapsed": true
   },
   "outputs": [],
   "source": []
  },
  {
   "cell_type": "code",
   "execution_count": null,
   "metadata": {
    "collapsed": true
   },
   "outputs": [],
   "source": []
  },
  {
   "cell_type": "code",
   "execution_count": null,
   "metadata": {
    "collapsed": true
   },
   "outputs": [],
   "source": []
  },
  {
   "cell_type": "code",
   "execution_count": 89,
   "metadata": {
    "collapsed": false
   },
   "outputs": [
    {
     "data": {
      "text/plain": [
       "1.0000000000000004"
      ]
     },
     "execution_count": 89,
     "metadata": {},
     "output_type": "execute_result"
    }
   ],
   "source": [
    "UE_pred[0, 0, 0, 0, 0]"
   ]
  },
  {
   "cell_type": "code",
   "execution_count": 91,
   "metadata": {
    "collapsed": false
   },
   "outputs": [
    {
     "name": "stderr",
     "output_type": "stream",
     "text": [
      "/home/ilya/anaconda2/lib/python2.7/site-packages/ipykernel/__main__.py:10: DeprecationWarning: using a non-integer number instead of an integer will result in an error in the future\n",
      "/home/ilya/anaconda2/lib/python2.7/site-packages/ipykernel/__main__.py:9: DeprecationWarning: using a non-integer number instead of an integer will result in an error in the future\n"
     ]
    },
    {
     "data": {
      "image/png": "[encoded data removed]",
      "text/plain": [
       "<matplotlib.figure.Figure at 0x932711cc>"
      ]
     },
     "metadata": {},
     "output_type": "display_data"
    }
   ],
   "source": [
    "z_init = (5, 1, 5, 5)\n",
    "p_pos_array = []\n",
    "e_pos_array = []\n",
    "p_pos = np.array(z_init[:2])\n",
    "e_pos = np.array(z_init[2:])\n",
    "for i in range(10):\n",
    "    p_pos_array.append(p_pos)\n",
    "    e_pos_array.append(e_pos)\n",
    "    p_pos = np.array(p_pos) + UP.full()[p_pos[0], p_pos[1], e_pos[0], e_pos[1]]\n",
    "    e_pos = np.array(e_pos) + UE.full()[p_pos[0], p_pos[1], e_pos[0], e_pos[1]]\n",
    "    \n",
    "plt.figure(figsize=(8, 6))\n",
    "#for i in range(10):\n",
    "#    plt.plot(p_pos_array[i][0], p_pos_array[i][1], 'ro', markersize=10)\n",
    "    \n",
    "for i in range(9):\n",
    "    x_start = p_pos_array[i][0]\n",
    "    y_start = p_pos_array[i][1]\n",
    "    dx = p_pos_array[i + 1][0] - p_pos_array[i][0]\n",
    "    dy = p_pos_array[i + 1][1] - p_pos_array[i][1]\n",
    "    plt.arrow(x_start, y_start, dx, dy, head_width=0.1, head_length=0.2, fc='k', ec='k')\n",
    "    \n",
    "#for i in range(10):\n",
    "#    plt.plot(e_pos_array[i][0], e_pos_array[i][1], 'bo')\n",
    "\n",
    "for i in range(9):\n",
    "    x_start = e_pos_array[i][0]\n",
    "    y_start = e_pos_array[i][1]\n",
    "    dx = e_pos_array[i + 1][0] - e_pos_array[i][0]\n",
    "    dy = e_pos_array[i + 1][1] - e_pos_array[i][1]\n",
    "    plt.arrow(x_start, y_start, dx, dy, head_width=0.1, head_length=0.2, fc='r', ec='r')\n",
    "    \n",
    "plt.xlim((-1, 10))\n",
    "plt.ylim((-1, 10))\n",
    "plt.show()"
   ]
  },
  {
   "cell_type": "code",
   "execution_count": 328,
   "metadata": {
    "collapsed": false
   },
   "outputs": [
    {
     "data": {
      "text/plain": [
       "[array([5, 1]),\n",
       " array([4, 3]),\n",
       " array([5, 5]),\n",
       " array([6, 6]),\n",
       " array([7, 7]),\n",
       " array([8, 8]),\n",
       " array([9, 9]),\n",
       " array([10, 10]),\n",
       " array([11, 11]),\n",
       " array([12, 12])]"
      ]
     },
     "execution_count": 328,
     "metadata": {},
     "output_type": "execute_result"
    }
   ],
   "source": [
    "p_pos_array"
   ]
  },
  {
   "cell_type": "code",
   "execution_count": 329,
   "metadata": {
    "collapsed": false
   },
   "outputs": [
    {
     "data": {
      "text/plain": [
       "[array([5, 5]),\n",
       " array([6, 6]),\n",
       " array([7, 7]),\n",
       " array([8, 8]),\n",
       " array([9, 9]),\n",
       " array([10, 10]),\n",
       " array([11, 11]),\n",
       " array([12, 12]),\n",
       " array([13, 13]),\n",
       " array([14, 14])]"
      ]
     },
     "execution_count": 329,
     "metadata": {},
     "output_type": "execute_result"
    }
   ],
   "source": [
    "e_pos_array"
   ]
  },
  {
   "cell_type": "code",
   "execution_count": null,
   "metadata": {
    "collapsed": true
   },
   "outputs": [],
   "source": []
  }
 ],
 "metadata": {
  "anaconda-cloud": {},
  "kernelspec": {
   "display_name": "Python [default]",
   "language": "python",
   "name": "python2"
  },
  "language_info": {
   "codemirror_mode": {
    "name": "ipython",
    "version": 2
   },
   "file_extension": ".py",
   "mimetype": "text/x-python",
   "name": "python",
   "nbconvert_exporter": "python",
   "pygments_lexer": "ipython2",
   "version": "2.7.12"
  }
 },
 "nbformat": 4,
 "nbformat_minor": 1
}
